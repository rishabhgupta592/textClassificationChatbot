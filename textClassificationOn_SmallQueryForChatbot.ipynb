{
  "nbformat": 4,
  "nbformat_minor": 0,
  "metadata": {
    "colab": {
      "name": "textClassificationOn SmallQueryForChatbot",
      "provenance": [],
      "collapsed_sections": [],
      "toc_visible": true,
      "mount_file_id": "1Y1dK6s8cEe20PyH8GuJfun453O16eXPX",
      "authorship_tag": "ABX9TyMNUbQ/eJmvX8gppH9Mm0UN",
      "include_colab_link": true
    },
    "kernelspec": {
      "name": "python3",
      "display_name": "Python 3"
    },
    "language_info": {
      "name": "python"
    },
    "widgets": {
      "application/vnd.jupyter.widget-state+json": {
        "cb8d723f30d440feaf0626edab1f4e04": {
          "model_module": "@jupyter-widgets/controls",
          "model_name": "HBoxModel",
          "state": {
            "_view_name": "HBoxView",
            "_dom_classes": [],
            "_model_name": "HBoxModel",
            "_view_module": "@jupyter-widgets/controls",
            "_model_module_version": "1.5.0",
            "_view_count": null,
            "_view_module_version": "1.5.0",
            "box_style": "",
            "layout": "IPY_MODEL_3c8307cc097b472cb10654c59c190782",
            "_model_module": "@jupyter-widgets/controls",
            "children": [
              "IPY_MODEL_1ca658932cc74bd8aa65a37bbdd25be7",
              "IPY_MODEL_9fac409582164875ae2f5139ad672c3b"
            ]
          }
        },
        "3c8307cc097b472cb10654c59c190782": {
          "model_module": "@jupyter-widgets/base",
          "model_name": "LayoutModel",
          "state": {
            "_view_name": "LayoutView",
            "grid_template_rows": null,
            "right": null,
            "justify_content": null,
            "_view_module": "@jupyter-widgets/base",
            "overflow": null,
            "_model_module_version": "1.2.0",
            "_view_count": null,
            "flex_flow": null,
            "width": null,
            "min_width": null,
            "border": null,
            "align_items": null,
            "bottom": null,
            "_model_module": "@jupyter-widgets/base",
            "top": null,
            "grid_column": null,
            "overflow_y": null,
            "overflow_x": null,
            "grid_auto_flow": null,
            "grid_area": null,
            "grid_template_columns": null,
            "flex": null,
            "_model_name": "LayoutModel",
            "justify_items": null,
            "grid_row": null,
            "max_height": null,
            "align_content": null,
            "visibility": null,
            "align_self": null,
            "height": null,
            "min_height": null,
            "padding": null,
            "grid_auto_rows": null,
            "grid_gap": null,
            "max_width": null,
            "order": null,
            "_view_module_version": "1.2.0",
            "grid_template_areas": null,
            "object_position": null,
            "object_fit": null,
            "grid_auto_columns": null,
            "margin": null,
            "display": null,
            "left": null
          }
        },
        "1ca658932cc74bd8aa65a37bbdd25be7": {
          "model_module": "@jupyter-widgets/controls",
          "model_name": "FloatProgressModel",
          "state": {
            "_view_name": "ProgressView",
            "style": "IPY_MODEL_4e96673c6b924d89a2d11e58af06ddcb",
            "_dom_classes": [],
            "description": "100%",
            "_model_name": "FloatProgressModel",
            "bar_style": "success",
            "max": 460546867,
            "_view_module": "@jupyter-widgets/controls",
            "_model_module_version": "1.5.0",
            "value": 460546867,
            "_view_count": null,
            "_view_module_version": "1.5.0",
            "orientation": "horizontal",
            "min": 0,
            "description_tooltip": null,
            "_model_module": "@jupyter-widgets/controls",
            "layout": "IPY_MODEL_c808106b843b49d08d13319429079964"
          }
        },
        "9fac409582164875ae2f5139ad672c3b": {
          "model_module": "@jupyter-widgets/controls",
          "model_name": "HTMLModel",
          "state": {
            "_view_name": "HTMLView",
            "style": "IPY_MODEL_7d9b762baa834cd5b1367c12a521ea43",
            "_dom_classes": [],
            "description": "",
            "_model_name": "HTMLModel",
            "placeholder": "​",
            "_view_module": "@jupyter-widgets/controls",
            "_model_module_version": "1.5.0",
            "value": " 461M/461M [00:34&lt;00:00, 13.3MB/s]",
            "_view_count": null,
            "_view_module_version": "1.5.0",
            "description_tooltip": null,
            "_model_module": "@jupyter-widgets/controls",
            "layout": "IPY_MODEL_33c5084c815240de888d91472142f4a9"
          }
        },
        "4e96673c6b924d89a2d11e58af06ddcb": {
          "model_module": "@jupyter-widgets/controls",
          "model_name": "ProgressStyleModel",
          "state": {
            "_view_name": "StyleView",
            "_model_name": "ProgressStyleModel",
            "description_width": "initial",
            "_view_module": "@jupyter-widgets/base",
            "_model_module_version": "1.5.0",
            "_view_count": null,
            "_view_module_version": "1.2.0",
            "bar_color": null,
            "_model_module": "@jupyter-widgets/controls"
          }
        },
        "c808106b843b49d08d13319429079964": {
          "model_module": "@jupyter-widgets/base",
          "model_name": "LayoutModel",
          "state": {
            "_view_name": "LayoutView",
            "grid_template_rows": null,
            "right": null,
            "justify_content": null,
            "_view_module": "@jupyter-widgets/base",
            "overflow": null,
            "_model_module_version": "1.2.0",
            "_view_count": null,
            "flex_flow": null,
            "width": null,
            "min_width": null,
            "border": null,
            "align_items": null,
            "bottom": null,
            "_model_module": "@jupyter-widgets/base",
            "top": null,
            "grid_column": null,
            "overflow_y": null,
            "overflow_x": null,
            "grid_auto_flow": null,
            "grid_area": null,
            "grid_template_columns": null,
            "flex": null,
            "_model_name": "LayoutModel",
            "justify_items": null,
            "grid_row": null,
            "max_height": null,
            "align_content": null,
            "visibility": null,
            "align_self": null,
            "height": null,
            "min_height": null,
            "padding": null,
            "grid_auto_rows": null,
            "grid_gap": null,
            "max_width": null,
            "order": null,
            "_view_module_version": "1.2.0",
            "grid_template_areas": null,
            "object_position": null,
            "object_fit": null,
            "grid_auto_columns": null,
            "margin": null,
            "display": null,
            "left": null
          }
        },
        "7d9b762baa834cd5b1367c12a521ea43": {
          "model_module": "@jupyter-widgets/controls",
          "model_name": "DescriptionStyleModel",
          "state": {
            "_view_name": "StyleView",
            "_model_name": "DescriptionStyleModel",
            "description_width": "",
            "_view_module": "@jupyter-widgets/base",
            "_model_module_version": "1.5.0",
            "_view_count": null,
            "_view_module_version": "1.2.0",
            "_model_module": "@jupyter-widgets/controls"
          }
        },
        "33c5084c815240de888d91472142f4a9": {
          "model_module": "@jupyter-widgets/base",
          "model_name": "LayoutModel",
          "state": {
            "_view_name": "LayoutView",
            "grid_template_rows": null,
            "right": null,
            "justify_content": null,
            "_view_module": "@jupyter-widgets/base",
            "overflow": null,
            "_model_module_version": "1.2.0",
            "_view_count": null,
            "flex_flow": null,
            "width": null,
            "min_width": null,
            "border": null,
            "align_items": null,
            "bottom": null,
            "_model_module": "@jupyter-widgets/base",
            "top": null,
            "grid_column": null,
            "overflow_y": null,
            "overflow_x": null,
            "grid_auto_flow": null,
            "grid_area": null,
            "grid_template_columns": null,
            "flex": null,
            "_model_name": "LayoutModel",
            "justify_items": null,
            "grid_row": null,
            "max_height": null,
            "align_content": null,
            "visibility": null,
            "align_self": null,
            "height": null,
            "min_height": null,
            "padding": null,
            "grid_auto_rows": null,
            "grid_gap": null,
            "max_width": null,
            "order": null,
            "_view_module_version": "1.2.0",
            "grid_template_areas": null,
            "object_position": null,
            "object_fit": null,
            "grid_auto_columns": null,
            "margin": null,
            "display": null,
            "left": null
          }
        },
        "36a985348eae412081fa5ffa29a7cf0e": {
          "model_module": "@jupyter-widgets/controls",
          "model_name": "HBoxModel",
          "state": {
            "_view_name": "HBoxView",
            "_dom_classes": [],
            "_model_name": "HBoxModel",
            "_view_module": "@jupyter-widgets/controls",
            "_model_module_version": "1.5.0",
            "_view_count": null,
            "_view_module_version": "1.5.0",
            "box_style": "",
            "layout": "IPY_MODEL_f450215080554f0d883ee86bbf8ce029",
            "_model_module": "@jupyter-widgets/controls",
            "children": [
              "IPY_MODEL_a7579997506640f398c0a400f36fe69e",
              "IPY_MODEL_3687259ca69047aaadf9f419ec0e6452"
            ]
          }
        },
        "f450215080554f0d883ee86bbf8ce029": {
          "model_module": "@jupyter-widgets/base",
          "model_name": "LayoutModel",
          "state": {
            "_view_name": "LayoutView",
            "grid_template_rows": null,
            "right": null,
            "justify_content": null,
            "_view_module": "@jupyter-widgets/base",
            "overflow": null,
            "_model_module_version": "1.2.0",
            "_view_count": null,
            "flex_flow": null,
            "width": null,
            "min_width": null,
            "border": null,
            "align_items": null,
            "bottom": null,
            "_model_module": "@jupyter-widgets/base",
            "top": null,
            "grid_column": null,
            "overflow_y": null,
            "overflow_x": null,
            "grid_auto_flow": null,
            "grid_area": null,
            "grid_template_columns": null,
            "flex": null,
            "_model_name": "LayoutModel",
            "justify_items": null,
            "grid_row": null,
            "max_height": null,
            "align_content": null,
            "visibility": null,
            "align_self": null,
            "height": null,
            "min_height": null,
            "padding": null,
            "grid_auto_rows": null,
            "grid_gap": null,
            "max_width": null,
            "order": null,
            "_view_module_version": "1.2.0",
            "grid_template_areas": null,
            "object_position": null,
            "object_fit": null,
            "grid_auto_columns": null,
            "margin": null,
            "display": null,
            "left": null
          }
        },
        "a7579997506640f398c0a400f36fe69e": {
          "model_module": "@jupyter-widgets/controls",
          "model_name": "FloatProgressModel",
          "state": {
            "_view_name": "ProgressView",
            "style": "IPY_MODEL_464512c596bd46749038bdc3c1d5d652",
            "_dom_classes": [],
            "description": "",
            "_model_name": "FloatProgressModel",
            "bar_style": "success",
            "max": 1,
            "_view_module": "@jupyter-widgets/controls",
            "_model_module_version": "1.5.0",
            "value": 0,
            "_view_count": null,
            "_view_module_version": "1.5.0",
            "orientation": "horizontal",
            "min": 0,
            "description_tooltip": null,
            "_model_module": "@jupyter-widgets/controls",
            "layout": "IPY_MODEL_627f2afd7f7f446a9a0ddd4ae65067ae"
          }
        },
        "3687259ca69047aaadf9f419ec0e6452": {
          "model_module": "@jupyter-widgets/controls",
          "model_name": "HTMLModel",
          "state": {
            "_view_name": "HTMLView",
            "style": "IPY_MODEL_31648c4132dd4b3d90064831cbf5be38",
            "_dom_classes": [],
            "description": "",
            "_model_name": "HTMLModel",
            "placeholder": "​",
            "_view_module": "@jupyter-widgets/controls",
            "_model_module_version": "1.5.0",
            "value": " 0/? [00:00&lt;?, ?it/s]",
            "_view_count": null,
            "_view_module_version": "1.5.0",
            "description_tooltip": null,
            "_model_module": "@jupyter-widgets/controls",
            "layout": "IPY_MODEL_140bdc5d78114e7b9c8068f9e9e4a43d"
          }
        },
        "464512c596bd46749038bdc3c1d5d652": {
          "model_module": "@jupyter-widgets/controls",
          "model_name": "ProgressStyleModel",
          "state": {
            "_view_name": "StyleView",
            "_model_name": "ProgressStyleModel",
            "description_width": "initial",
            "_view_module": "@jupyter-widgets/base",
            "_model_module_version": "1.5.0",
            "_view_count": null,
            "_view_module_version": "1.2.0",
            "bar_color": null,
            "_model_module": "@jupyter-widgets/controls"
          }
        },
        "627f2afd7f7f446a9a0ddd4ae65067ae": {
          "model_module": "@jupyter-widgets/base",
          "model_name": "LayoutModel",
          "state": {
            "_view_name": "LayoutView",
            "grid_template_rows": null,
            "right": null,
            "justify_content": null,
            "_view_module": "@jupyter-widgets/base",
            "overflow": null,
            "_model_module_version": "1.2.0",
            "_view_count": null,
            "flex_flow": null,
            "width": null,
            "min_width": null,
            "border": null,
            "align_items": null,
            "bottom": null,
            "_model_module": "@jupyter-widgets/base",
            "top": null,
            "grid_column": null,
            "overflow_y": null,
            "overflow_x": null,
            "grid_auto_flow": null,
            "grid_area": null,
            "grid_template_columns": null,
            "flex": null,
            "_model_name": "LayoutModel",
            "justify_items": null,
            "grid_row": null,
            "max_height": null,
            "align_content": null,
            "visibility": null,
            "align_self": null,
            "height": null,
            "min_height": null,
            "padding": null,
            "grid_auto_rows": null,
            "grid_gap": null,
            "max_width": null,
            "order": null,
            "_view_module_version": "1.2.0",
            "grid_template_areas": null,
            "object_position": null,
            "object_fit": null,
            "grid_auto_columns": null,
            "margin": null,
            "display": null,
            "left": null
          }
        },
        "31648c4132dd4b3d90064831cbf5be38": {
          "model_module": "@jupyter-widgets/controls",
          "model_name": "DescriptionStyleModel",
          "state": {
            "_view_name": "StyleView",
            "_model_name": "DescriptionStyleModel",
            "description_width": "",
            "_view_module": "@jupyter-widgets/base",
            "_model_module_version": "1.5.0",
            "_view_count": null,
            "_view_module_version": "1.2.0",
            "_model_module": "@jupyter-widgets/controls"
          }
        },
        "140bdc5d78114e7b9c8068f9e9e4a43d": {
          "model_module": "@jupyter-widgets/base",
          "model_name": "LayoutModel",
          "state": {
            "_view_name": "LayoutView",
            "grid_template_rows": null,
            "right": null,
            "justify_content": null,
            "_view_module": "@jupyter-widgets/base",
            "overflow": null,
            "_model_module_version": "1.2.0",
            "_view_count": null,
            "flex_flow": null,
            "width": null,
            "min_width": null,
            "border": null,
            "align_items": null,
            "bottom": null,
            "_model_module": "@jupyter-widgets/base",
            "top": null,
            "grid_column": null,
            "overflow_y": null,
            "overflow_x": null,
            "grid_auto_flow": null,
            "grid_area": null,
            "grid_template_columns": null,
            "flex": null,
            "_model_name": "LayoutModel",
            "justify_items": null,
            "grid_row": null,
            "max_height": null,
            "align_content": null,
            "visibility": null,
            "align_self": null,
            "height": null,
            "min_height": null,
            "padding": null,
            "grid_auto_rows": null,
            "grid_gap": null,
            "max_width": null,
            "order": null,
            "_view_module_version": "1.2.0",
            "grid_template_areas": null,
            "object_position": null,
            "object_fit": null,
            "grid_auto_columns": null,
            "margin": null,
            "display": null,
            "left": null
          }
        },
        "7f796fe037eb45318eda63e965529f8c": {
          "model_module": "@jupyter-widgets/controls",
          "model_name": "HBoxModel",
          "state": {
            "_view_name": "HBoxView",
            "_dom_classes": [],
            "_model_name": "HBoxModel",
            "_view_module": "@jupyter-widgets/controls",
            "_model_module_version": "1.5.0",
            "_view_count": null,
            "_view_module_version": "1.5.0",
            "box_style": "",
            "layout": "IPY_MODEL_668e19ada7884127882de04151ee7323",
            "_model_module": "@jupyter-widgets/controls",
            "children": [
              "IPY_MODEL_34898cde789248abac9d0a2ba95ea6f3",
              "IPY_MODEL_306464008c004cd39416d1f6d07a46a9"
            ]
          }
        },
        "668e19ada7884127882de04151ee7323": {
          "model_module": "@jupyter-widgets/base",
          "model_name": "LayoutModel",
          "state": {
            "_view_name": "LayoutView",
            "grid_template_rows": null,
            "right": null,
            "justify_content": null,
            "_view_module": "@jupyter-widgets/base",
            "overflow": null,
            "_model_module_version": "1.2.0",
            "_view_count": null,
            "flex_flow": null,
            "width": null,
            "min_width": null,
            "border": null,
            "align_items": null,
            "bottom": null,
            "_model_module": "@jupyter-widgets/base",
            "top": null,
            "grid_column": null,
            "overflow_y": null,
            "overflow_x": null,
            "grid_auto_flow": null,
            "grid_area": null,
            "grid_template_columns": null,
            "flex": null,
            "_model_name": "LayoutModel",
            "justify_items": null,
            "grid_row": null,
            "max_height": null,
            "align_content": null,
            "visibility": null,
            "align_self": null,
            "height": null,
            "min_height": null,
            "padding": null,
            "grid_auto_rows": null,
            "grid_gap": null,
            "max_width": null,
            "order": null,
            "_view_module_version": "1.2.0",
            "grid_template_areas": null,
            "object_position": null,
            "object_fit": null,
            "grid_auto_columns": null,
            "margin": null,
            "display": null,
            "left": null
          }
        },
        "34898cde789248abac9d0a2ba95ea6f3": {
          "model_module": "@jupyter-widgets/controls",
          "model_name": "FloatProgressModel",
          "state": {
            "_view_name": "ProgressView",
            "style": "IPY_MODEL_8a70d5b470564ff6afda51a898c790b1",
            "_dom_classes": [],
            "description": "100%",
            "_model_name": "FloatProgressModel",
            "bar_style": "success",
            "max": 1142,
            "_view_module": "@jupyter-widgets/controls",
            "_model_module_version": "1.5.0",
            "value": 1142,
            "_view_count": null,
            "_view_module_version": "1.5.0",
            "orientation": "horizontal",
            "min": 0,
            "description_tooltip": null,
            "_model_module": "@jupyter-widgets/controls",
            "layout": "IPY_MODEL_2761941753ed4402a282ac9454c0598d"
          }
        },
        "306464008c004cd39416d1f6d07a46a9": {
          "model_module": "@jupyter-widgets/controls",
          "model_name": "HTMLModel",
          "state": {
            "_view_name": "HTMLView",
            "style": "IPY_MODEL_bd3474c7ceec44b4b21a85c1f9bbfdf0",
            "_dom_classes": [],
            "description": "",
            "_model_name": "HTMLModel",
            "placeholder": "​",
            "_view_module": "@jupyter-widgets/controls",
            "_model_module_version": "1.5.0",
            "value": " 1142/1142 [02:57&lt;00:00,  6.43it/s]",
            "_view_count": null,
            "_view_module_version": "1.5.0",
            "description_tooltip": null,
            "_model_module": "@jupyter-widgets/controls",
            "layout": "IPY_MODEL_a3b6c99ed5de4f6d9ec08c3f12bd6e74"
          }
        },
        "8a70d5b470564ff6afda51a898c790b1": {
          "model_module": "@jupyter-widgets/controls",
          "model_name": "ProgressStyleModel",
          "state": {
            "_view_name": "StyleView",
            "_model_name": "ProgressStyleModel",
            "description_width": "initial",
            "_view_module": "@jupyter-widgets/base",
            "_model_module_version": "1.5.0",
            "_view_count": null,
            "_view_module_version": "1.2.0",
            "bar_color": null,
            "_model_module": "@jupyter-widgets/controls"
          }
        },
        "2761941753ed4402a282ac9454c0598d": {
          "model_module": "@jupyter-widgets/base",
          "model_name": "LayoutModel",
          "state": {
            "_view_name": "LayoutView",
            "grid_template_rows": null,
            "right": null,
            "justify_content": null,
            "_view_module": "@jupyter-widgets/base",
            "overflow": null,
            "_model_module_version": "1.2.0",
            "_view_count": null,
            "flex_flow": null,
            "width": null,
            "min_width": null,
            "border": null,
            "align_items": null,
            "bottom": null,
            "_model_module": "@jupyter-widgets/base",
            "top": null,
            "grid_column": null,
            "overflow_y": null,
            "overflow_x": null,
            "grid_auto_flow": null,
            "grid_area": null,
            "grid_template_columns": null,
            "flex": null,
            "_model_name": "LayoutModel",
            "justify_items": null,
            "grid_row": null,
            "max_height": null,
            "align_content": null,
            "visibility": null,
            "align_self": null,
            "height": null,
            "min_height": null,
            "padding": null,
            "grid_auto_rows": null,
            "grid_gap": null,
            "max_width": null,
            "order": null,
            "_view_module_version": "1.2.0",
            "grid_template_areas": null,
            "object_position": null,
            "object_fit": null,
            "grid_auto_columns": null,
            "margin": null,
            "display": null,
            "left": null
          }
        },
        "bd3474c7ceec44b4b21a85c1f9bbfdf0": {
          "model_module": "@jupyter-widgets/controls",
          "model_name": "DescriptionStyleModel",
          "state": {
            "_view_name": "StyleView",
            "_model_name": "DescriptionStyleModel",
            "description_width": "",
            "_view_module": "@jupyter-widgets/base",
            "_model_module_version": "1.5.0",
            "_view_count": null,
            "_view_module_version": "1.2.0",
            "_model_module": "@jupyter-widgets/controls"
          }
        },
        "a3b6c99ed5de4f6d9ec08c3f12bd6e74": {
          "model_module": "@jupyter-widgets/base",
          "model_name": "LayoutModel",
          "state": {
            "_view_name": "LayoutView",
            "grid_template_rows": null,
            "right": null,
            "justify_content": null,
            "_view_module": "@jupyter-widgets/base",
            "overflow": null,
            "_model_module_version": "1.2.0",
            "_view_count": null,
            "flex_flow": null,
            "width": null,
            "min_width": null,
            "border": null,
            "align_items": null,
            "bottom": null,
            "_model_module": "@jupyter-widgets/base",
            "top": null,
            "grid_column": null,
            "overflow_y": null,
            "overflow_x": null,
            "grid_auto_flow": null,
            "grid_area": null,
            "grid_template_columns": null,
            "flex": null,
            "_model_name": "LayoutModel",
            "justify_items": null,
            "grid_row": null,
            "max_height": null,
            "align_content": null,
            "visibility": null,
            "align_self": null,
            "height": null,
            "min_height": null,
            "padding": null,
            "grid_auto_rows": null,
            "grid_gap": null,
            "max_width": null,
            "order": null,
            "_view_module_version": "1.2.0",
            "grid_template_areas": null,
            "object_position": null,
            "object_fit": null,
            "grid_auto_columns": null,
            "margin": null,
            "display": null,
            "left": null
          }
        }
      }
    }
  },
  "cells": [
    {
      "cell_type": "markdown",
      "metadata": {
        "id": "view-in-github",
        "colab_type": "text"
      },
      "source": [
        "<a href=\"https://colab.research.google.com/github/rishabhgupta592/textClassificationChatbot/blob/main/textClassificationOn_SmallQueryForChatbot.ipynb\" target=\"_parent\"><img src=\"https://colab.research.google.com/assets/colab-badge.svg\" alt=\"Open In Colab\"/></a>"
      ]
    },
    {
      "cell_type": "code",
      "metadata": {
        "colab": {
          "base_uri": "https://localhost:8080/"
        },
        "id": "uMYV96dzvKYJ",
        "outputId": "0bb6879a-fdc8-49ba-cf62-501f490f35b4"
      },
      "source": [
        "! pip install sentence-transformers"
      ],
      "execution_count": null,
      "outputs": [
        {
          "output_type": "stream",
          "text": [
            "Collecting sentence-transformers\n",
            "\u001b[?25l  Downloading https://files.pythonhosted.org/packages/6f/4d/9fb1028b0b4645c77401417151d06122d745c7a874fda6a4d5e6bb7bebc6/sentence-transformers-1.0.3.tar.gz (74kB)\n",
            "\u001b[K     |████████████████████████████████| 81kB 5.4MB/s \n",
            "\u001b[?25hCollecting transformers<5.0.0,>=3.1.0\n",
            "\u001b[?25l  Downloading https://files.pythonhosted.org/packages/ed/d5/f4157a376b8a79489a76ce6cfe147f4f3be1e029b7144fa7b8432e8acb26/transformers-4.4.2-py3-none-any.whl (2.0MB)\n",
            "\u001b[K     |████████████████████████████████| 2.0MB 8.1MB/s \n",
            "\u001b[?25hRequirement already satisfied: tqdm in /usr/local/lib/python3.7/dist-packages (from sentence-transformers) (4.41.1)\n",
            "Requirement already satisfied: torch>=1.6.0 in /usr/local/lib/python3.7/dist-packages (from sentence-transformers) (1.8.0+cu101)\n",
            "Requirement already satisfied: numpy in /usr/local/lib/python3.7/dist-packages (from sentence-transformers) (1.19.5)\n",
            "Requirement already satisfied: scikit-learn in /usr/local/lib/python3.7/dist-packages (from sentence-transformers) (0.22.2.post1)\n",
            "Requirement already satisfied: scipy in /usr/local/lib/python3.7/dist-packages (from sentence-transformers) (1.4.1)\n",
            "Requirement already satisfied: nltk in /usr/local/lib/python3.7/dist-packages (from sentence-transformers) (3.2.5)\n",
            "Collecting sentencepiece\n",
            "\u001b[?25l  Downloading https://files.pythonhosted.org/packages/f5/99/e0808cb947ba10f575839c43e8fafc9cc44e4a7a2c8f79c60db48220a577/sentencepiece-0.1.95-cp37-cp37m-manylinux2014_x86_64.whl (1.2MB)\n",
            "\u001b[K     |████████████████████████████████| 1.2MB 38.1MB/s \n",
            "\u001b[?25hCollecting tokenizers<0.11,>=0.10.1\n",
            "\u001b[?25l  Downloading https://files.pythonhosted.org/packages/71/23/2ddc317b2121117bf34dd00f5b0de194158f2a44ee2bf5e47c7166878a97/tokenizers-0.10.1-cp37-cp37m-manylinux2010_x86_64.whl (3.2MB)\n",
            "\u001b[K     |████████████████████████████████| 3.2MB 46.6MB/s \n",
            "\u001b[?25hRequirement already satisfied: filelock in /usr/local/lib/python3.7/dist-packages (from transformers<5.0.0,>=3.1.0->sentence-transformers) (3.0.12)\n",
            "Collecting sacremoses\n",
            "\u001b[?25l  Downloading https://files.pythonhosted.org/packages/7d/34/09d19aff26edcc8eb2a01bed8e98f13a1537005d31e95233fd48216eed10/sacremoses-0.0.43.tar.gz (883kB)\n",
            "\u001b[K     |████████████████████████████████| 890kB 46.5MB/s \n",
            "\u001b[?25hRequirement already satisfied: requests in /usr/local/lib/python3.7/dist-packages (from transformers<5.0.0,>=3.1.0->sentence-transformers) (2.23.0)\n",
            "Requirement already satisfied: packaging in /usr/local/lib/python3.7/dist-packages (from transformers<5.0.0,>=3.1.0->sentence-transformers) (20.9)\n",
            "Requirement already satisfied: importlib-metadata; python_version < \"3.8\" in /usr/local/lib/python3.7/dist-packages (from transformers<5.0.0,>=3.1.0->sentence-transformers) (3.7.2)\n",
            "Requirement already satisfied: regex!=2019.12.17 in /usr/local/lib/python3.7/dist-packages (from transformers<5.0.0,>=3.1.0->sentence-transformers) (2019.12.20)\n",
            "Requirement already satisfied: typing-extensions in /usr/local/lib/python3.7/dist-packages (from torch>=1.6.0->sentence-transformers) (3.7.4.3)\n",
            "Requirement already satisfied: joblib>=0.11 in /usr/local/lib/python3.7/dist-packages (from scikit-learn->sentence-transformers) (1.0.1)\n",
            "Requirement already satisfied: six in /usr/local/lib/python3.7/dist-packages (from nltk->sentence-transformers) (1.15.0)\n",
            "Requirement already satisfied: click in /usr/local/lib/python3.7/dist-packages (from sacremoses->transformers<5.0.0,>=3.1.0->sentence-transformers) (7.1.2)\n",
            "Requirement already satisfied: idna<3,>=2.5 in /usr/local/lib/python3.7/dist-packages (from requests->transformers<5.0.0,>=3.1.0->sentence-transformers) (2.10)\n",
            "Requirement already satisfied: urllib3!=1.25.0,!=1.25.1,<1.26,>=1.21.1 in /usr/local/lib/python3.7/dist-packages (from requests->transformers<5.0.0,>=3.1.0->sentence-transformers) (1.24.3)\n",
            "Requirement already satisfied: certifi>=2017.4.17 in /usr/local/lib/python3.7/dist-packages (from requests->transformers<5.0.0,>=3.1.0->sentence-transformers) (2020.12.5)\n",
            "Requirement already satisfied: chardet<4,>=3.0.2 in /usr/local/lib/python3.7/dist-packages (from requests->transformers<5.0.0,>=3.1.0->sentence-transformers) (3.0.4)\n",
            "Requirement already satisfied: pyparsing>=2.0.2 in /usr/local/lib/python3.7/dist-packages (from packaging->transformers<5.0.0,>=3.1.0->sentence-transformers) (2.4.7)\n",
            "Requirement already satisfied: zipp>=0.5 in /usr/local/lib/python3.7/dist-packages (from importlib-metadata; python_version < \"3.8\"->transformers<5.0.0,>=3.1.0->sentence-transformers) (3.4.1)\n",
            "Building wheels for collected packages: sentence-transformers, sacremoses\n",
            "  Building wheel for sentence-transformers (setup.py) ... \u001b[?25l\u001b[?25hdone\n",
            "  Created wheel for sentence-transformers: filename=sentence_transformers-1.0.3-cp37-none-any.whl size=114277 sha256=955afbc7b43b40e9adb0c13e45804b5bce710ebef2fae72458cd20eb3612a323\n",
            "  Stored in directory: /root/.cache/pip/wheels/c8/0d/fa/4e28cf045da4781344e7972befb2fdf306051b225bfc290187\n",
            "  Building wheel for sacremoses (setup.py) ... \u001b[?25l\u001b[?25hdone\n",
            "  Created wheel for sacremoses: filename=sacremoses-0.0.43-cp37-none-any.whl size=893262 sha256=f6c6e386f1417dc340059c883b5f0fd560f6150a3b1c708d7ebc19206aabf9ae\n",
            "  Stored in directory: /root/.cache/pip/wheels/29/3c/fd/7ce5c3f0666dab31a50123635e6fb5e19ceb42ce38d4e58f45\n",
            "Successfully built sentence-transformers sacremoses\n",
            "Installing collected packages: tokenizers, sacremoses, transformers, sentencepiece, sentence-transformers\n",
            "Successfully installed sacremoses-0.0.43 sentence-transformers-1.0.3 sentencepiece-0.1.95 tokenizers-0.10.1 transformers-4.4.2\n"
          ],
          "name": "stdout"
        }
      ]
    },
    {
      "cell_type": "code",
      "metadata": {
        "id": "R3ggnRrFlNB5"
      },
      "source": [
        "import numpy as np"
      ],
      "execution_count": null,
      "outputs": []
    },
    {
      "cell_type": "code",
      "metadata": {
        "colab": {
          "base_uri": "https://localhost:8080/",
          "height": 194
        },
        "id": "AyMIiAAPh6jH",
        "outputId": "b7bf8dfb-e624-447a-d17a-65003dea4e57"
      },
      "source": [
        "import pandas as pd\n",
        "data = pd.read_csv(\"train_data.csv\",sep=\"\\t\")\n",
        "data.head(5)"
      ],
      "execution_count": null,
      "outputs": [
        {
          "output_type": "execute_result",
          "data": {
            "text/html": [
              "<div>\n",
              "<style scoped>\n",
              "    .dataframe tbody tr th:only-of-type {\n",
              "        vertical-align: middle;\n",
              "    }\n",
              "\n",
              "    .dataframe tbody tr th {\n",
              "        vertical-align: top;\n",
              "    }\n",
              "\n",
              "    .dataframe thead th {\n",
              "        text-align: right;\n",
              "    }\n",
              "</style>\n",
              "<table border=\"1\" class=\"dataframe\">\n",
              "  <thead>\n",
              "    <tr style=\"text-align: right;\">\n",
              "      <th></th>\n",
              "      <th>message</th>\n",
              "      <th>label</th>\n",
              "    </tr>\n",
              "  </thead>\n",
              "  <tbody>\n",
              "    <tr>\n",
              "      <th>0</th>\n",
              "      <td>this company is shitty</td>\n",
              "      <td>company</td>\n",
              "    </tr>\n",
              "    <tr>\n",
              "      <th>1</th>\n",
              "      <td>culture in the company is really bad</td>\n",
              "      <td>culture</td>\n",
              "    </tr>\n",
              "    <tr>\n",
              "      <th>2</th>\n",
              "      <td>its a very badass culture in the company</td>\n",
              "      <td>culture</td>\n",
              "    </tr>\n",
              "    <tr>\n",
              "      <th>3</th>\n",
              "      <td>My boss does not trust me</td>\n",
              "      <td>trust</td>\n",
              "    </tr>\n",
              "    <tr>\n",
              "      <th>4</th>\n",
              "      <td>I have zero trust on my manager</td>\n",
              "      <td>trust</td>\n",
              "    </tr>\n",
              "  </tbody>\n",
              "</table>\n",
              "</div>"
            ],
            "text/plain": [
              "                                    message    label\n",
              "0                   this company is shitty   company\n",
              "1      culture in the company is really bad  culture\n",
              "2  its a very badass culture in the company  culture\n",
              "3                 My boss does not trust me    trust\n",
              "4           I have zero trust on my manager    trust"
            ]
          },
          "metadata": {
            "tags": []
          },
          "execution_count": 5
        }
      ]
    },
    {
      "cell_type": "code",
      "metadata": {
        "id": "dXD_lKytkYzn"
      },
      "source": [
        ""
      ],
      "execution_count": null,
      "outputs": []
    },
    {
      "cell_type": "code",
      "metadata": {
        "colab": {
          "base_uri": "https://localhost:8080/",
          "height": 103,
          "referenced_widgets": [
            "cb8d723f30d440feaf0626edab1f4e04",
            "3c8307cc097b472cb10654c59c190782",
            "1ca658932cc74bd8aa65a37bbdd25be7",
            "9fac409582164875ae2f5139ad672c3b",
            "4e96673c6b924d89a2d11e58af06ddcb",
            "c808106b843b49d08d13319429079964",
            "7d9b762baa834cd5b1367c12a521ea43",
            "33c5084c815240de888d91472142f4a9"
          ]
        },
        "id": "NxF0dsVfihBB",
        "outputId": "b41f9542-0776-4424-9ce3-9ab63ca65af6"
      },
      "source": [
        "from sentence_transformers import SentenceTransformer\n",
        "model = SentenceTransformer('stsb-roberta-base') \n",
        "# model = SentenceTransformer('paraphrase-distilroberta-base-v1') # very poor accuracy\n",
        "\"\"\"\n",
        "{\n",
        " \"Train Sample Count\": 913,\n",
        " \"Test Sample Count\": 229,\n",
        " \"Num of Classes\": 3,\n",
        " \"Num of Features\": 768,\n",
        " \"kernel\": \"rbf\",\n",
        " \"Training Accuracy\": \"0.705\",\n",
        " \"Test Accuracy\": \"0.699\",\n",
        " \"Precision\": \"0.904\",\n",
        " \"Recall\": \"0.926\"\n",
        "}\n",
        "\"\"\"\n"
      ],
      "execution_count": null,
      "outputs": [
        {
          "output_type": "display_data",
          "data": {
            "application/vnd.jupyter.widget-view+json": {
              "model_id": "cb8d723f30d440feaf0626edab1f4e04",
              "version_minor": 0,
              "version_major": 2
            },
            "text/plain": [
              "HBox(children=(FloatProgress(value=0.0, max=460546867.0), HTML(value='')))"
            ]
          },
          "metadata": {
            "tags": []
          }
        },
        {
          "output_type": "stream",
          "text": [
            "\n"
          ],
          "name": "stdout"
        },
        {
          "output_type": "execute_result",
          "data": {
            "application/vnd.google.colaboratory.intrinsic+json": {
              "type": "string"
            },
            "text/plain": [
              "'\\n{\\n \"Train Sample Count\": 913,\\n \"Test Sample Count\": 229,\\n \"Num of Classes\": 3,\\n \"Num of Features\": 768,\\n \"kernel\": \"rbf\",\\n \"Training Accuracy\": \"0.705\",\\n \"Test Accuracy\": \"0.699\",\\n \"Precision\": \"0.904\",\\n \"Recall\": \"0.926\"\\n}\\n'"
            ]
          },
          "metadata": {
            "tags": []
          },
          "execution_count": 6
        }
      ]
    },
    {
      "cell_type": "code",
      "metadata": {
        "id": "l1g_eH_8kWUm"
      },
      "source": [
        "subset = data[data['label'].isin( [\"manager\", \"company\", \"stress\"])]\n"
      ],
      "execution_count": null,
      "outputs": []
    },
    {
      "cell_type": "code",
      "metadata": {
        "colab": {
          "base_uri": "https://localhost:8080/"
        },
        "id": "V2CUhpe_k5zs",
        "outputId": "95619ba4-c1bc-43e9-d801-7c7f702b3c02"
      },
      "source": [
        "subset['word_length'] = subset.message.apply(lambda i: len(i.split()))\n",
        "subset = subset[subset.word_length <30]"
      ],
      "execution_count": null,
      "outputs": [
        {
          "output_type": "stream",
          "text": [
            "/usr/local/lib/python3.7/dist-packages/ipykernel_launcher.py:1: SettingWithCopyWarning: \n",
            "A value is trying to be set on a copy of a slice from a DataFrame.\n",
            "Try using .loc[row_indexer,col_indexer] = value instead\n",
            "\n",
            "See the caveats in the documentation: https://pandas.pydata.org/pandas-docs/stable/user_guide/indexing.html#returning-a-view-versus-a-copy\n",
            "  \"\"\"Entry point for launching an IPython kernel.\n"
          ],
          "name": "stderr"
        }
      ]
    },
    {
      "cell_type": "code",
      "metadata": {
        "id": "9NpOQ1AsorD8"
      },
      "source": [
        "def process(text):\n",
        "    text = text.lower()\n",
        "    # text = word_tokenize(text)\n",
        "    # Final_words = []\n",
        "    # Initializing WordNetLemmatizer()\n",
        "    # word_Lemmatized = WordNetLemmatizer()\n",
        "    # pos_tag function below will provide the 'tag' i.e if the word is Noun(N) or Verb(V) or something else.\n",
        "    # for word, tag in pos_tag(text):\n",
        "        # Below condition is to check for Stop words and consider only alphabets\n",
        "        # if word not in stopwords.words('english') and word.isalpha():\n",
        "            # word_Final = word_Lemmatized.lemmatize(word, tag_map[tag[0]])\n",
        "            # Final_words.append(word_Final)\n",
        "    # return \" \".join(Final_words)\n",
        "    return text"
      ],
      "execution_count": null,
      "outputs": []
    },
    {
      "cell_type": "code",
      "metadata": {
        "colab": {
          "base_uri": "https://localhost:8080/",
          "height": 225,
          "referenced_widgets": [
            "36a985348eae412081fa5ffa29a7cf0e",
            "f450215080554f0d883ee86bbf8ce029",
            "a7579997506640f398c0a400f36fe69e",
            "3687259ca69047aaadf9f419ec0e6452",
            "464512c596bd46749038bdc3c1d5d652",
            "627f2afd7f7f446a9a0ddd4ae65067ae",
            "31648c4132dd4b3d90064831cbf5be38",
            "140bdc5d78114e7b9c8068f9e9e4a43d",
            "7f796fe037eb45318eda63e965529f8c",
            "668e19ada7884127882de04151ee7323",
            "34898cde789248abac9d0a2ba95ea6f3",
            "306464008c004cd39416d1f6d07a46a9",
            "8a70d5b470564ff6afda51a898c790b1",
            "2761941753ed4402a282ac9454c0598d",
            "bd3474c7ceec44b4b21a85c1f9bbfdf0",
            "a3b6c99ed5de4f6d9ec08c3f12bd6e74"
          ]
        },
        "id": "k28Ip2Z7onPK",
        "outputId": "86e42b1f-d49e-4a3a-bd3f-c180a01cc4c8"
      },
      "source": [
        "from tqdm import tqdm, tqdm_notebook\n",
        "tqdm_notebook().pandas()\n",
        "subset['processed_message'] = subset[\"message\"].progress_apply(process)"
      ],
      "execution_count": null,
      "outputs": [
        {
          "output_type": "stream",
          "text": [
            "/usr/local/lib/python3.7/dist-packages/ipykernel_launcher.py:2: TqdmDeprecationWarning: This function will be removed in tqdm==5.0.0\n",
            "Please use `tqdm.notebook.tqdm` instead of `tqdm.tqdm_notebook`\n",
            "  \n"
          ],
          "name": "stderr"
        },
        {
          "output_type": "display_data",
          "data": {
            "application/vnd.jupyter.widget-view+json": {
              "model_id": "36a985348eae412081fa5ffa29a7cf0e",
              "version_minor": 0,
              "version_major": 2
            },
            "text/plain": [
              "HBox(children=(FloatProgress(value=1.0, bar_style='info', max=1.0), HTML(value='')))"
            ]
          },
          "metadata": {
            "tags": []
          }
        },
        {
          "output_type": "stream",
          "text": [
            "/usr/local/lib/python3.7/dist-packages/tqdm/std.py:658: FutureWarning: The Panel class is removed from pandas. Accessing it from the top-level namespace will also be removed in the next version\n",
            "  from pandas import Panel\n"
          ],
          "name": "stderr"
        },
        {
          "output_type": "display_data",
          "data": {
            "application/vnd.jupyter.widget-view+json": {
              "model_id": "7f796fe037eb45318eda63e965529f8c",
              "version_minor": 0,
              "version_major": 2
            },
            "text/plain": [
              "HBox(children=(FloatProgress(value=0.0, max=1142.0), HTML(value='')))"
            ]
          },
          "metadata": {
            "tags": []
          }
        },
        {
          "output_type": "stream",
          "text": [
            "\n",
            "\n"
          ],
          "name": "stdout"
        }
      ]
    },
    {
      "cell_type": "code",
      "metadata": {
        "id": "KvMZzBMxk95_"
      },
      "source": [
        "text = np.array(subset['processed_message'])\n",
        "category = np.array(subset['label'])\n",
        "# build train and test datasets\n",
        "\n",
        "# Train/test splitting \n",
        "from sklearn.model_selection import train_test_split    \n",
        "Train_X, Test_X, Train_Y, Test_Y = train_test_split(text, category, test_size=0.2, random_state=101)"
      ],
      "execution_count": null,
      "outputs": []
    },
    {
      "cell_type": "code",
      "metadata": {
        "colab": {
          "base_uri": "https://localhost:8080/"
        },
        "id": "BCsItWKFlK6C",
        "outputId": "7b7dece7-760d-498b-85da-865877866a1b"
      },
      "source": [
        "query_embedding = model.encode('How big is London')\n",
        "query_embedding.shape"
      ],
      "execution_count": null,
      "outputs": [
        {
          "output_type": "execute_result",
          "data": {
            "text/plain": [
              "(768,)"
            ]
          },
          "metadata": {
            "tags": []
          },
          "execution_count": 12
        }
      ]
    },
    {
      "cell_type": "code",
      "metadata": {
        "id": "UO1mihsilZRT"
      },
      "source": [
        "train_x_feature  = model.encode(Train_X)"
      ],
      "execution_count": null,
      "outputs": []
    },
    {
      "cell_type": "code",
      "metadata": {
        "id": "RMzPPTCxmuEm"
      },
      "source": [
        "test_x_feature = model.encode(Test_X)"
      ],
      "execution_count": null,
      "outputs": []
    },
    {
      "cell_type": "code",
      "metadata": {
        "colab": {
          "base_uri": "https://localhost:8080/"
        },
        "id": "mSVviMp4lpfQ",
        "outputId": "9e5d6846-3268-4f09-9ab6-c197003be4ca"
      },
      "source": [
        "train_x_feature.shape"
      ],
      "execution_count": null,
      "outputs": [
        {
          "output_type": "execute_result",
          "data": {
            "text/plain": [
              "(913, 768)"
            ]
          },
          "metadata": {
            "tags": []
          },
          "execution_count": 15
        }
      ]
    },
    {
      "cell_type": "code",
      "metadata": {
        "id": "jC1-P6Umls_Y"
      },
      "source": [
        "from sklearn.preprocessing import LabelEncoder\n",
        "Encoder = LabelEncoder()\n",
        "Train_Y = Encoder.fit_transform(Train_Y)\n",
        "Test_Y = Encoder.fit_transform(Test_Y)"
      ],
      "execution_count": null,
      "outputs": []
    },
    {
      "cell_type": "code",
      "metadata": {
        "colab": {
          "base_uri": "https://localhost:8080/"
        },
        "id": "COd389AXmKNR",
        "outputId": "9e539b89-9812-4766-ba04-2535da4a44e2"
      },
      "source": [
        "from sklearn.svm import SVC\n",
        "from sklearn.pipeline import make_pipeline\n",
        "from sklearn.preprocessing import StandardScaler\n",
        "from sklearn.model_selection import GridSearchCV\n",
        "\n",
        "param = {'C': [1, 10, 100, 1000], 'kernel': ('poly', 'rbf'), 'gamma':['auto', 1e-3, 1e-4]}\n",
        "# clf = make_pipeline(StandardScaler(with_mean=False), GridSearchCV(SVC(class_weight='balanced'),param_grid=param,refit=True))\n",
        "clf = grid = GridSearchCV(SVC(class_weight='balanced'), param_grid=param, refit = True, verbose = 3) \n",
        "# Set the parameters by cross-validation\n",
        "clf.fit(train_x_feature, Train_Y)\n",
        "# print best parameter after tuning \n",
        "print(clf.best_params_) \n",
        "\n",
        "# print how our model looks after hyper-parameter tuning \n",
        "print(clf.best_estimator_) \n",
        "# SVM = svm.SVC(C=1.0, kernel='linear', degree=3, gamma='auto', probability=True)\n",
        "# SVM.fit(train_x_feature,Train_Y)"
      ],
      "execution_count": null,
      "outputs": [
        {
          "output_type": "stream",
          "text": [
            "Fitting 5 folds for each of 24 candidates, totalling 120 fits\n",
            "[CV] C=1, gamma=auto, kernel=poly ....................................\n"
          ],
          "name": "stdout"
        },
        {
          "output_type": "stream",
          "text": [
            "[Parallel(n_jobs=1)]: Using backend SequentialBackend with 1 concurrent workers.\n"
          ],
          "name": "stderr"
        },
        {
          "output_type": "stream",
          "text": [
            "[CV] ........ C=1, gamma=auto, kernel=poly, score=0.628, total=   0.9s\n",
            "[CV] C=1, gamma=auto, kernel=poly ....................................\n"
          ],
          "name": "stdout"
        },
        {
          "output_type": "stream",
          "text": [
            "[Parallel(n_jobs=1)]: Done   1 out of   1 | elapsed:    0.9s remaining:    0.0s\n"
          ],
          "name": "stderr"
        },
        {
          "output_type": "stream",
          "text": [
            "[CV] ........ C=1, gamma=auto, kernel=poly, score=0.623, total=   0.9s\n",
            "[CV] C=1, gamma=auto, kernel=poly ....................................\n"
          ],
          "name": "stdout"
        },
        {
          "output_type": "stream",
          "text": [
            "[Parallel(n_jobs=1)]: Done   2 out of   2 | elapsed:    1.9s remaining:    0.0s\n"
          ],
          "name": "stderr"
        },
        {
          "output_type": "stream",
          "text": [
            "[CV] ........ C=1, gamma=auto, kernel=poly, score=0.628, total=   0.9s\n",
            "[CV] C=1, gamma=auto, kernel=poly ....................................\n",
            "[CV] ........ C=1, gamma=auto, kernel=poly, score=0.626, total=   0.9s\n",
            "[CV] C=1, gamma=auto, kernel=poly ....................................\n",
            "[CV] ........ C=1, gamma=auto, kernel=poly, score=0.621, total=   0.9s\n",
            "[CV] C=1, gamma=auto, kernel=rbf .....................................\n",
            "[CV] ......... C=1, gamma=auto, kernel=rbf, score=0.842, total=   0.5s\n",
            "[CV] C=1, gamma=auto, kernel=rbf .....................................\n",
            "[CV] ......... C=1, gamma=auto, kernel=rbf, score=0.880, total=   0.6s\n",
            "[CV] C=1, gamma=auto, kernel=rbf .....................................\n",
            "[CV] ......... C=1, gamma=auto, kernel=rbf, score=0.885, total=   0.6s\n",
            "[CV] C=1, gamma=auto, kernel=rbf .....................................\n",
            "[CV] ......... C=1, gamma=auto, kernel=rbf, score=0.912, total=   0.6s\n",
            "[CV] C=1, gamma=auto, kernel=rbf .....................................\n",
            "[CV] ......... C=1, gamma=auto, kernel=rbf, score=0.923, total=   0.6s\n",
            "[CV] C=1, gamma=0.001, kernel=poly ...................................\n",
            "[CV] ....... C=1, gamma=0.001, kernel=poly, score=0.530, total=   1.0s\n",
            "[CV] C=1, gamma=0.001, kernel=poly ...................................\n",
            "[CV] ....... C=1, gamma=0.001, kernel=poly, score=0.486, total=   1.0s\n",
            "[CV] C=1, gamma=0.001, kernel=poly ...................................\n",
            "[CV] ....... C=1, gamma=0.001, kernel=poly, score=0.486, total=   1.0s\n",
            "[CV] C=1, gamma=0.001, kernel=poly ...................................\n",
            "[CV] ....... C=1, gamma=0.001, kernel=poly, score=0.478, total=   1.0s\n",
            "[CV] C=1, gamma=0.001, kernel=poly ...................................\n",
            "[CV] ....... C=1, gamma=0.001, kernel=poly, score=0.538, total=   1.0s\n",
            "[CV] C=1, gamma=0.001, kernel=rbf ....................................\n",
            "[CV] ........ C=1, gamma=0.001, kernel=rbf, score=0.836, total=   0.5s\n",
            "[CV] C=1, gamma=0.001, kernel=rbf ....................................\n",
            "[CV] ........ C=1, gamma=0.001, kernel=rbf, score=0.869, total=   0.6s\n",
            "[CV] C=1, gamma=0.001, kernel=rbf ....................................\n",
            "[CV] ........ C=1, gamma=0.001, kernel=rbf, score=0.880, total=   0.6s\n",
            "[CV] C=1, gamma=0.001, kernel=rbf ....................................\n",
            "[CV] ........ C=1, gamma=0.001, kernel=rbf, score=0.912, total=   0.6s\n",
            "[CV] C=1, gamma=0.001, kernel=rbf ....................................\n",
            "[CV] ........ C=1, gamma=0.001, kernel=rbf, score=0.912, total=   0.6s\n",
            "[CV] C=1, gamma=0.0001, kernel=poly ..................................\n",
            "[CV] ...... C=1, gamma=0.0001, kernel=poly, score=0.481, total=   1.0s\n",
            "[CV] C=1, gamma=0.0001, kernel=poly ..................................\n",
            "[CV] ...... C=1, gamma=0.0001, kernel=poly, score=0.481, total=   1.0s\n",
            "[CV] C=1, gamma=0.0001, kernel=poly ..................................\n",
            "[CV] ...... C=1, gamma=0.0001, kernel=poly, score=0.481, total=   1.0s\n",
            "[CV] C=1, gamma=0.0001, kernel=poly ..................................\n",
            "[CV] ...... C=1, gamma=0.0001, kernel=poly, score=0.484, total=   1.0s\n",
            "[CV] C=1, gamma=0.0001, kernel=poly ..................................\n",
            "[CV] ...... C=1, gamma=0.0001, kernel=poly, score=0.478, total=   1.0s\n",
            "[CV] C=1, gamma=0.0001, kernel=rbf ...................................\n",
            "[CV] ....... C=1, gamma=0.0001, kernel=rbf, score=0.787, total=   0.9s\n",
            "[CV] C=1, gamma=0.0001, kernel=rbf ...................................\n",
            "[CV] ....... C=1, gamma=0.0001, kernel=rbf, score=0.814, total=   0.9s\n",
            "[CV] C=1, gamma=0.0001, kernel=rbf ...................................\n",
            "[CV] ....... C=1, gamma=0.0001, kernel=rbf, score=0.869, total=   0.9s\n",
            "[CV] C=1, gamma=0.0001, kernel=rbf ...................................\n",
            "[CV] ....... C=1, gamma=0.0001, kernel=rbf, score=0.857, total=   0.9s\n",
            "[CV] C=1, gamma=0.0001, kernel=rbf ...................................\n",
            "[CV] ....... C=1, gamma=0.0001, kernel=rbf, score=0.868, total=   0.9s\n",
            "[CV] C=10, gamma=auto, kernel=poly ...................................\n",
            "[CV] ....... C=10, gamma=auto, kernel=poly, score=0.842, total=   0.7s\n",
            "[CV] C=10, gamma=auto, kernel=poly ...................................\n",
            "[CV] ....... C=10, gamma=auto, kernel=poly, score=0.847, total=   0.7s\n",
            "[CV] C=10, gamma=auto, kernel=poly ...................................\n",
            "[CV] ....... C=10, gamma=auto, kernel=poly, score=0.852, total=   0.7s\n",
            "[CV] C=10, gamma=auto, kernel=poly ...................................\n",
            "[CV] ....... C=10, gamma=auto, kernel=poly, score=0.874, total=   0.7s\n",
            "[CV] C=10, gamma=auto, kernel=poly ...................................\n",
            "[CV] ....... C=10, gamma=auto, kernel=poly, score=0.879, total=   0.7s\n",
            "[CV] C=10, gamma=auto, kernel=rbf ....................................\n",
            "[CV] ........ C=10, gamma=auto, kernel=rbf, score=0.885, total=   0.4s\n",
            "[CV] C=10, gamma=auto, kernel=rbf ....................................\n",
            "[CV] ........ C=10, gamma=auto, kernel=rbf, score=0.891, total=   0.5s\n",
            "[CV] C=10, gamma=auto, kernel=rbf ....................................\n",
            "[CV] ........ C=10, gamma=auto, kernel=rbf, score=0.874, total=   0.5s\n",
            "[CV] C=10, gamma=auto, kernel=rbf ....................................\n",
            "[CV] ........ C=10, gamma=auto, kernel=rbf, score=0.929, total=   0.5s\n",
            "[CV] C=10, gamma=auto, kernel=rbf ....................................\n",
            "[CV] ........ C=10, gamma=auto, kernel=rbf, score=0.918, total=   0.5s\n",
            "[CV] C=10, gamma=0.001, kernel=poly ..................................\n",
            "[CV] ...... C=10, gamma=0.001, kernel=poly, score=0.792, total=   0.7s\n",
            "[CV] C=10, gamma=0.001, kernel=poly ..................................\n",
            "[CV] ...... C=10, gamma=0.001, kernel=poly, score=0.787, total=   0.7s\n",
            "[CV] C=10, gamma=0.001, kernel=poly ..................................\n",
            "[CV] ...... C=10, gamma=0.001, kernel=poly, score=0.836, total=   0.7s\n",
            "[CV] C=10, gamma=0.001, kernel=poly ..................................\n",
            "[CV] ...... C=10, gamma=0.001, kernel=poly, score=0.841, total=   0.7s\n",
            "[CV] C=10, gamma=0.001, kernel=poly ..................................\n",
            "[CV] ...... C=10, gamma=0.001, kernel=poly, score=0.830, total=   0.7s\n",
            "[CV] C=10, gamma=0.001, kernel=rbf ...................................\n",
            "[CV] ....... C=10, gamma=0.001, kernel=rbf, score=0.885, total=   0.4s\n",
            "[CV] C=10, gamma=0.001, kernel=rbf ...................................\n",
            "[CV] ....... C=10, gamma=0.001, kernel=rbf, score=0.885, total=   0.4s\n",
            "[CV] C=10, gamma=0.001, kernel=rbf ...................................\n",
            "[CV] ....... C=10, gamma=0.001, kernel=rbf, score=0.869, total=   0.4s\n",
            "[CV] C=10, gamma=0.001, kernel=rbf ...................................\n",
            "[CV] ....... C=10, gamma=0.001, kernel=rbf, score=0.923, total=   0.5s\n",
            "[CV] C=10, gamma=0.001, kernel=rbf ...................................\n",
            "[CV] ....... C=10, gamma=0.001, kernel=rbf, score=0.923, total=   0.4s\n",
            "[CV] C=10, gamma=0.0001, kernel=poly .................................\n",
            "[CV] ..... C=10, gamma=0.0001, kernel=poly, score=0.240, total=   1.0s\n",
            "[CV] C=10, gamma=0.0001, kernel=poly .................................\n",
            "[CV] ..... C=10, gamma=0.0001, kernel=poly, score=0.240, total=   1.0s\n",
            "[CV] C=10, gamma=0.0001, kernel=poly .................................\n",
            "[CV] ..... C=10, gamma=0.0001, kernel=poly, score=0.240, total=   1.0s\n",
            "[CV] C=10, gamma=0.0001, kernel=poly .................................\n",
            "[CV] ..... C=10, gamma=0.0001, kernel=poly, score=0.236, total=   1.0s\n",
            "[CV] C=10, gamma=0.0001, kernel=poly .................................\n",
            "[CV] ..... C=10, gamma=0.0001, kernel=poly, score=0.478, total=   1.0s\n",
            "[CV] C=10, gamma=0.0001, kernel=rbf ..................................\n",
            "[CV] ...... C=10, gamma=0.0001, kernel=rbf, score=0.836, total=   0.5s\n",
            "[CV] C=10, gamma=0.0001, kernel=rbf ..................................\n",
            "[CV] ...... C=10, gamma=0.0001, kernel=rbf, score=0.863, total=   0.5s\n",
            "[CV] C=10, gamma=0.0001, kernel=rbf ..................................\n",
            "[CV] ...... C=10, gamma=0.0001, kernel=rbf, score=0.880, total=   0.5s\n",
            "[CV] C=10, gamma=0.0001, kernel=rbf ..................................\n",
            "[CV] ...... C=10, gamma=0.0001, kernel=rbf, score=0.896, total=   0.5s\n",
            "[CV] C=10, gamma=0.0001, kernel=rbf ..................................\n",
            "[CV] ...... C=10, gamma=0.0001, kernel=rbf, score=0.918, total=   0.5s\n",
            "[CV] C=100, gamma=auto, kernel=poly ..................................\n",
            "[CV] ...... C=100, gamma=auto, kernel=poly, score=0.869, total=   0.8s\n",
            "[CV] C=100, gamma=auto, kernel=poly ..................................\n",
            "[CV] ...... C=100, gamma=auto, kernel=poly, score=0.880, total=   0.8s\n",
            "[CV] C=100, gamma=auto, kernel=poly ..................................\n",
            "[CV] ...... C=100, gamma=auto, kernel=poly, score=0.858, total=   0.8s\n",
            "[CV] C=100, gamma=auto, kernel=poly ..................................\n",
            "[CV] ...... C=100, gamma=auto, kernel=poly, score=0.929, total=   0.8s\n",
            "[CV] C=100, gamma=auto, kernel=poly ..................................\n",
            "[CV] ...... C=100, gamma=auto, kernel=poly, score=0.879, total=   0.8s\n",
            "[CV] C=100, gamma=auto, kernel=rbf ...................................\n",
            "[CV] ....... C=100, gamma=auto, kernel=rbf, score=0.885, total=   0.4s\n",
            "[CV] C=100, gamma=auto, kernel=rbf ...................................\n",
            "[CV] ....... C=100, gamma=auto, kernel=rbf, score=0.891, total=   0.5s\n",
            "[CV] C=100, gamma=auto, kernel=rbf ...................................\n",
            "[CV] ....... C=100, gamma=auto, kernel=rbf, score=0.863, total=   0.5s\n",
            "[CV] C=100, gamma=auto, kernel=rbf ...................................\n",
            "[CV] ....... C=100, gamma=auto, kernel=rbf, score=0.945, total=   0.5s\n",
            "[CV] C=100, gamma=auto, kernel=rbf ...................................\n",
            "[CV] ....... C=100, gamma=auto, kernel=rbf, score=0.918, total=   0.5s\n",
            "[CV] C=100, gamma=0.001, kernel=poly .................................\n",
            "[CV] ..... C=100, gamma=0.001, kernel=poly, score=0.869, total=   0.8s\n",
            "[CV] C=100, gamma=0.001, kernel=poly .................................\n",
            "[CV] ..... C=100, gamma=0.001, kernel=poly, score=0.880, total=   0.8s\n",
            "[CV] C=100, gamma=0.001, kernel=poly .................................\n",
            "[CV] ..... C=100, gamma=0.001, kernel=poly, score=0.858, total=   0.8s\n",
            "[CV] C=100, gamma=0.001, kernel=poly .................................\n",
            "[CV] ..... C=100, gamma=0.001, kernel=poly, score=0.918, total=   0.8s\n",
            "[CV] C=100, gamma=0.001, kernel=poly .................................\n",
            "[CV] ..... C=100, gamma=0.001, kernel=poly, score=0.879, total=   0.8s\n",
            "[CV] C=100, gamma=0.001, kernel=rbf ..................................\n",
            "[CV] ...... C=100, gamma=0.001, kernel=rbf, score=0.874, total=   0.4s\n",
            "[CV] C=100, gamma=0.001, kernel=rbf ..................................\n",
            "[CV] ...... C=100, gamma=0.001, kernel=rbf, score=0.891, total=   0.4s\n",
            "[CV] C=100, gamma=0.001, kernel=rbf ..................................\n",
            "[CV] ...... C=100, gamma=0.001, kernel=rbf, score=0.858, total=   0.4s\n",
            "[CV] C=100, gamma=0.001, kernel=rbf ..................................\n",
            "[CV] ...... C=100, gamma=0.001, kernel=rbf, score=0.912, total=   0.4s\n",
            "[CV] C=100, gamma=0.001, kernel=rbf ..................................\n",
            "[CV] ...... C=100, gamma=0.001, kernel=rbf, score=0.918, total=   0.4s\n",
            "[CV] C=100, gamma=0.0001, kernel=poly ................................\n",
            "[CV] .... C=100, gamma=0.0001, kernel=poly, score=0.279, total=   1.0s\n",
            "[CV] C=100, gamma=0.0001, kernel=poly ................................\n",
            "[CV] .... C=100, gamma=0.0001, kernel=poly, score=0.279, total=   1.0s\n",
            "[CV] C=100, gamma=0.0001, kernel=poly ................................\n",
            "[CV] .... C=100, gamma=0.0001, kernel=poly, score=0.279, total=   1.0s\n",
            "[CV] C=100, gamma=0.0001, kernel=poly ................................\n",
            "[CV] .... C=100, gamma=0.0001, kernel=poly, score=0.280, total=   1.0s\n",
            "[CV] C=100, gamma=0.0001, kernel=poly ................................\n",
            "[CV] .... C=100, gamma=0.0001, kernel=poly, score=0.242, total=   1.0s\n",
            "[CV] C=100, gamma=0.0001, kernel=rbf .................................\n",
            "[CV] ..... C=100, gamma=0.0001, kernel=rbf, score=0.874, total=   0.3s\n",
            "[CV] C=100, gamma=0.0001, kernel=rbf .................................\n",
            "[CV] ..... C=100, gamma=0.0001, kernel=rbf, score=0.885, total=   0.4s\n",
            "[CV] C=100, gamma=0.0001, kernel=rbf .................................\n",
            "[CV] ..... C=100, gamma=0.0001, kernel=rbf, score=0.852, total=   0.4s\n",
            "[CV] C=100, gamma=0.0001, kernel=rbf .................................\n",
            "[CV] ..... C=100, gamma=0.0001, kernel=rbf, score=0.896, total=   0.4s\n",
            "[CV] C=100, gamma=0.0001, kernel=rbf .................................\n",
            "[CV] ..... C=100, gamma=0.0001, kernel=rbf, score=0.923, total=   0.4s\n",
            "[CV] C=1000, gamma=auto, kernel=poly .................................\n",
            "[CV] ..... C=1000, gamma=auto, kernel=poly, score=0.869, total=   0.8s\n",
            "[CV] C=1000, gamma=auto, kernel=poly .................................\n",
            "[CV] ..... C=1000, gamma=auto, kernel=poly, score=0.880, total=   0.8s\n",
            "[CV] C=1000, gamma=auto, kernel=poly .................................\n",
            "[CV] ..... C=1000, gamma=auto, kernel=poly, score=0.858, total=   0.8s\n",
            "[CV] C=1000, gamma=auto, kernel=poly .................................\n",
            "[CV] ..... C=1000, gamma=auto, kernel=poly, score=0.929, total=   0.9s\n",
            "[CV] C=1000, gamma=auto, kernel=poly .................................\n",
            "[CV] ..... C=1000, gamma=auto, kernel=poly, score=0.879, total=   0.8s\n",
            "[CV] C=1000, gamma=auto, kernel=rbf ..................................\n",
            "[CV] ...... C=1000, gamma=auto, kernel=rbf, score=0.885, total=   0.4s\n",
            "[CV] C=1000, gamma=auto, kernel=rbf ..................................\n",
            "[CV] ...... C=1000, gamma=auto, kernel=rbf, score=0.891, total=   0.5s\n",
            "[CV] C=1000, gamma=auto, kernel=rbf ..................................\n",
            "[CV] ...... C=1000, gamma=auto, kernel=rbf, score=0.863, total=   0.5s\n",
            "[CV] C=1000, gamma=auto, kernel=rbf ..................................\n",
            "[CV] ...... C=1000, gamma=auto, kernel=rbf, score=0.945, total=   0.5s\n",
            "[CV] C=1000, gamma=auto, kernel=rbf ..................................\n",
            "[CV] ...... C=1000, gamma=auto, kernel=rbf, score=0.918, total=   0.5s\n",
            "[CV] C=1000, gamma=0.001, kernel=poly ................................\n",
            "[CV] .... C=1000, gamma=0.001, kernel=poly, score=0.869, total=   0.8s\n",
            "[CV] C=1000, gamma=0.001, kernel=poly ................................\n",
            "[CV] .... C=1000, gamma=0.001, kernel=poly, score=0.880, total=   0.8s\n",
            "[CV] C=1000, gamma=0.001, kernel=poly ................................\n",
            "[CV] .... C=1000, gamma=0.001, kernel=poly, score=0.858, total=   0.8s\n",
            "[CV] C=1000, gamma=0.001, kernel=poly ................................\n",
            "[CV] .... C=1000, gamma=0.001, kernel=poly, score=0.929, total=   0.8s\n",
            "[CV] C=1000, gamma=0.001, kernel=poly ................................\n",
            "[CV] .... C=1000, gamma=0.001, kernel=poly, score=0.879, total=   0.8s\n",
            "[CV] C=1000, gamma=0.001, kernel=rbf .................................\n",
            "[CV] ..... C=1000, gamma=0.001, kernel=rbf, score=0.874, total=   0.4s\n",
            "[CV] C=1000, gamma=0.001, kernel=rbf .................................\n",
            "[CV] ..... C=1000, gamma=0.001, kernel=rbf, score=0.891, total=   0.4s\n",
            "[CV] C=1000, gamma=0.001, kernel=rbf .................................\n",
            "[CV] ..... C=1000, gamma=0.001, kernel=rbf, score=0.858, total=   0.4s\n",
            "[CV] C=1000, gamma=0.001, kernel=rbf .................................\n",
            "[CV] ..... C=1000, gamma=0.001, kernel=rbf, score=0.912, total=   0.4s\n",
            "[CV] C=1000, gamma=0.001, kernel=rbf .................................\n",
            "[CV] ..... C=1000, gamma=0.001, kernel=rbf, score=0.918, total=   0.4s\n",
            "[CV] C=1000, gamma=0.0001, kernel=poly ...............................\n",
            "[CV] ... C=1000, gamma=0.0001, kernel=poly, score=0.530, total=   1.0s\n",
            "[CV] C=1000, gamma=0.0001, kernel=poly ...............................\n",
            "[CV] ... C=1000, gamma=0.0001, kernel=poly, score=0.486, total=   1.0s\n",
            "[CV] C=1000, gamma=0.0001, kernel=poly ...............................\n",
            "[CV] ... C=1000, gamma=0.0001, kernel=poly, score=0.486, total=   1.0s\n",
            "[CV] C=1000, gamma=0.0001, kernel=poly ...............................\n",
            "[CV] ... C=1000, gamma=0.0001, kernel=poly, score=0.478, total=   1.0s\n",
            "[CV] C=1000, gamma=0.0001, kernel=poly ...............................\n",
            "[CV] ... C=1000, gamma=0.0001, kernel=poly, score=0.538, total=   1.0s\n",
            "[CV] C=1000, gamma=0.0001, kernel=rbf ................................\n",
            "[CV] .... C=1000, gamma=0.0001, kernel=rbf, score=0.858, total=   0.3s\n",
            "[CV] C=1000, gamma=0.0001, kernel=rbf ................................\n",
            "[CV] .... C=1000, gamma=0.0001, kernel=rbf, score=0.869, total=   0.4s\n",
            "[CV] C=1000, gamma=0.0001, kernel=rbf ................................\n",
            "[CV] .... C=1000, gamma=0.0001, kernel=rbf, score=0.858, total=   0.4s\n",
            "[CV] C=1000, gamma=0.0001, kernel=rbf ................................\n",
            "[CV] .... C=1000, gamma=0.0001, kernel=rbf, score=0.896, total=   0.4s\n",
            "[CV] C=1000, gamma=0.0001, kernel=rbf ................................\n",
            "[CV] .... C=1000, gamma=0.0001, kernel=rbf, score=0.923, total=   0.4s\n"
          ],
          "name": "stdout"
        },
        {
          "output_type": "stream",
          "text": [
            "[Parallel(n_jobs=1)]: Done 120 out of 120 | elapsed:  1.4min finished\n"
          ],
          "name": "stderr"
        },
        {
          "output_type": "stream",
          "text": [
            "{'C': 100, 'gamma': 'auto', 'kernel': 'rbf'}\n",
            "SVC(C=100, break_ties=False, cache_size=200, class_weight='balanced', coef0=0.0,\n",
            "    decision_function_shape='ovr', degree=3, gamma='auto', kernel='rbf',\n",
            "    max_iter=-1, probability=False, random_state=None, shrinking=True,\n",
            "    tol=0.001, verbose=False)\n"
          ],
          "name": "stdout"
        }
      ]
    },
    {
      "cell_type": "code",
      "metadata": {
        "id": "kSZ1hr62mhpe"
      },
      "source": [
        "def get_precision(y_true, y_pred):\n",
        "    from sklearn.metrics import precision_recall_fscore_support\n",
        "    # print(precision_recall_fscore_support(y_true, y_pred, average='macro'))\n",
        "    score_list = precision_recall_fscore_support(y_true, y_pred, average='macro')\n",
        "    precision = score_list[0]\n",
        "    recall = score_list[1]\n",
        "    print(\"Precision = \", score_list[0])\n",
        "    print(\"Recall = \", score_list[1])\n",
        "    return  precision, recall"
      ],
      "execution_count": null,
      "outputs": []
    },
    {
      "cell_type": "code",
      "metadata": {
        "colab": {
          "base_uri": "https://localhost:8080/"
        },
        "id": "fTj5DPW_mpbI",
        "outputId": "0444c3eb-0cf4-4c85-e10a-910037f8f97e"
      },
      "source": [
        "y_score = clf.predict(test_x_feature)\n",
        "precision, recall = get_precision(Test_Y, y_score)"
      ],
      "execution_count": null,
      "outputs": [
        {
          "output_type": "stream",
          "text": [
            "Precision =  0.8852602602602602\n",
            "Recall =  0.8852602602602602\n"
          ],
          "name": "stdout"
        }
      ]
    },
    {
      "cell_type": "code",
      "metadata": {
        "colab": {
          "base_uri": "https://localhost:8080/"
        },
        "id": "PAVR9H8Wm4ap",
        "outputId": "bc219c7a-dbec-4b22-a704-be0cb9dcfe76"
      },
      "source": [
        "content = {\n",
        "    \"Train Sample Count\": Train_X.shape[0],\n",
        "    \"Test Sample Count\": Test_X.shape[0],\n",
        "    \"Num of Classes\": subset['label'].nunique(),\n",
        "    \"Num of Features\": test_x_feature.shape[1],\n",
        "    \"kernel\": \"rbf\",\n",
        "    \"Training Accuracy\": \"{:.3f}\".format(clf.score(train_x_feature, Train_Y)),\n",
        "    \"Test Accuracy\": \"{:.3f}\".format(clf.score(test_x_feature, Test_Y)),\n",
        "    \"Precision\": \"{:.3f}\".format(precision),\n",
        "    \"Recall\": \"{:.3f}\".format(recall)\n",
        "}\n",
        "\n",
        "import json\n",
        "print(json.dumps(content, indent = 1)) "
      ],
      "execution_count": null,
      "outputs": [
        {
          "output_type": "stream",
          "text": [
            "{\n",
            " \"Train Sample Count\": 913,\n",
            " \"Test Sample Count\": 229,\n",
            " \"Num of Classes\": 3,\n",
            " \"Num of Features\": 768,\n",
            " \"kernel\": \"rbf\",\n",
            " \"Training Accuracy\": \"1.000\",\n",
            " \"Test Accuracy\": \"0.886\",\n",
            " \"Precision\": \"0.885\",\n",
            " \"Recall\": \"0.885\"\n",
            "}\n"
          ],
          "name": "stdout"
        }
      ]
    },
    {
      "cell_type": "code",
      "metadata": {
        "colab": {
          "base_uri": "https://localhost:8080/"
        },
        "id": "4CdCOJh5m9t9",
        "outputId": "8dc04071-6821-47e7-a741-40c0fc47a7be"
      },
      "source": [
        "from sklearn import metrics\n",
        "from sklearn.metrics import accuracy_score,recall_score,precision_score,f1_score,confusion_matrix,auc,roc_auc_score,classification_report\n",
        "\n",
        "# y_pred_test = clf.predict(tfidf_test_features)\n",
        "print(\"Confusion matrix\", metrics.confusion_matrix(Test_Y, y_score))\n",
        "cr=classification_report(Test_Y,y_score)\n",
        "print(cr)"
      ],
      "execution_count": null,
      "outputs": [
        {
          "output_type": "stream",
          "text": [
            "Confusion matrix [[56  7  1]\n",
            " [ 7 99  5]\n",
            " [ 1  5 48]]\n",
            "              precision    recall  f1-score   support\n",
            "\n",
            "           0       0.88      0.88      0.88        64\n",
            "           1       0.89      0.89      0.89       111\n",
            "           2       0.89      0.89      0.89        54\n",
            "\n",
            "    accuracy                           0.89       229\n",
            "   macro avg       0.89      0.89      0.89       229\n",
            "weighted avg       0.89      0.89      0.89       229\n",
            "\n"
          ],
          "name": "stdout"
        }
      ]
    },
    {
      "cell_type": "code",
      "metadata": {
        "colab": {
          "base_uri": "https://localhost:8080/",
          "height": 716
        },
        "id": "aRmLXGHStpen",
        "outputId": "091f3e9e-2643-49e0-910e-23f42354d06a"
      },
      "source": [
        "import matplotlib.pyplot as plt\n",
        "import seaborn as sns\n",
        "# Plot non-normalized confusion matrix\n",
        "class_names= [0,1,2]\n",
        "import matplotlib.pyplot as plt2\n",
        "from sklearn.metrics import plot_confusion_matrix\n",
        "titles_options = [(\"Confusion matrix, without normalization\", None),\n",
        "                  (\"Normalized confusion matrix\", 'true')]\n",
        "for title, normalize in titles_options:\n",
        "    disp = plot_confusion_matrix(clf, test_x_feature, Test_Y,\n",
        "                                 display_labels=class_names,\n",
        "                                 cmap=plt.cm.Blues,\n",
        "                                 normalize=normalize)\n",
        "    disp.ax_.set_title(title)\n",
        "\n",
        "    print(title)\n",
        "    print(disp.confusion_matrix)\n",
        "    plt.show()"
      ],
      "execution_count": null,
      "outputs": [
        {
          "output_type": "stream",
          "text": [
            "Confusion matrix, without normalization\n",
            "[[56  7  1]\n",
            " [ 7 99  5]\n",
            " [ 1  5 48]]\n"
          ],
          "name": "stdout"
        },
        {
          "output_type": "display_data",
          "data": {
            "image/png": "[encoded data removed]",
            "text/plain": [
              "<Figure size 432x288 with 2 Axes>"
            ]
          },
          "metadata": {
            "tags": [],
            "needs_background": "light"
          }
        },
        {
          "output_type": "stream",
          "text": [
            "Normalized confusion matrix\n",
            "[[0.875      0.109375   0.015625  ]\n",
            " [0.06306306 0.89189189 0.04504505]\n",
            " [0.01851852 0.09259259 0.88888889]]\n"
          ],
          "name": "stdout"
        },
        {
          "output_type": "display_data",
          "data": {
            "image/png": "[encoded data removed]",
            "text/plain": [
              "<Figure size 432x288 with 2 Axes>"
            ]
          },
          "metadata": {
            "tags": [],
            "needs_background": "light"
          }
        }
      ]
    },
    {
      "cell_type": "code",
      "metadata": {
        "id": "02baWZlDnOoE"
      },
      "source": [
        "def get_prediction(sent):\n",
        "    # corrected_query = spell_check(sent.lower())\n",
        "    # if corrected_query != sent.lower() :\n",
        "        # sent  = corrected_query\n",
        "        # print(\"** Spell correction ** = \", corrected_query)\n",
        "    # sent = process(sent)\n",
        "    # test_vec = tv.transform([sent])\n",
        "    test_vec = model.encode(sent)\n",
        "    # SVM.predict(test_vec)\n",
        "\n",
        "    class_value = clf.predict(test_vec)\n",
        "    # prob = clf.predict_proba(test_vec)[0][class_value[0]]\n",
        "    print(\"Calss_value = \", class_value)\n",
        "    print(\"Predicted Class = \", Encoder.inverse_transform(class_value)[0])\n",
        "    # print(\"Probabilty  = \", prob)"
      ],
      "execution_count": null,
      "outputs": []
    },
    {
      "cell_type": "code",
      "metadata": {
        "colab": {
          "base_uri": "https://localhost:8080/"
        },
        "id": "2XH02K-jnoKk",
        "outputId": "1884b92b-4254-4d0a-fdeb-fb969162fb24"
      },
      "source": [
        "sent = [\"There are few things which I didnt add in my Goal settings and which i spent lots of work to complete and manger not highlited things on revieweal. Need to review my performance review from HR side also.\",\n",
        "       \"attitude of the previous manager, he is self obsessed and think the whole system is running because of him.\",\n",
        "     \"As of now nothing, it is already taken care by the management and the reporting boss\",\n",
        "    \"In most cases he redirect us to speak to the manager with hearing to what we have to say. In the last 12 months, I have only had 1 skip level meeting that lasted for 10 minutes. When trying to raise a concern it was told to speak to manager directly\",\n",
        "      \"Due to work from home its really becoming challenging. Working hours are becoming challenge to maintain work life balance. Getting no motivation from direct managers.\" ,\n",
        "       \"Covid has totally changed the work culture and life style of people. I think the kind of knowledge sharing and bonding between the team members have reduced now. Also it becomes very difficult to draw boundary between work and personal timings. We can think of something which can help in these aspects.\"]\n",
        "\n",
        "for s in sent:\n",
        "  print(\"INPUT : \", s)\n",
        "  sent = process(s)\n",
        "  get_prediction([s])\n",
        "  print(\"#\"*30)"
      ],
      "execution_count": null,
      "outputs": [
        {
          "output_type": "stream",
          "text": [
            "INPUT :  best boos to work with\n",
            "Calss_value =  [1]\n",
            "Predicted Class =  manager\n",
            "##############################\n",
            "INPUT :  Popular Brand good work culture\n",
            "Calss_value =  [1]\n",
            "Predicted Class =  manager\n",
            "##############################\n",
            "INPUT :  no flexibility in work\n",
            "Calss_value =  [2]\n",
            "Predicted Class =  stress\n",
            "##############################\n"
          ],
          "name": "stdout"
        }
      ]
    },
    {
      "cell_type": "code",
      "metadata": {
        "id": "XfYd1rzsnsdV"
      },
      "source": [
        ""
      ],
      "execution_count": null,
      "outputs": []
    }
  ]
}